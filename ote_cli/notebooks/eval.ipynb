{
 "cells": [
  {
   "cell_type": "markdown",
   "id": "a00b3aed",
   "metadata": {},
   "source": [
    "# Evaluate Object Detection with OpenVINO IR"
   ]
  },
  {
   "cell_type": "markdown",
   "id": "9548bf78",
   "metadata": {},
   "source": [
    "## Import everything"
   ]
  },
  {
   "cell_type": "code",
   "execution_count": null,
   "id": "717eca7a",
   "metadata": {
    "scrolled": true
   },
   "outputs": [],
   "source": [
    "import cv2\n",
    "import numpy as np\n",
    "\n",
    "from ote_sdk.configuration.helper import create as create_parameters_from_parameters_schema\n",
    "from ote_sdk.entities.inference_parameters import InferenceParameters\n",
    "from ote_sdk.entities.label_schema import LabelSchemaEntity\n",
    "from ote_sdk.entities.model import ModelEntity\n",
    "from ote_sdk.entities.resultset import ResultSetEntity\n",
    "from ote_sdk.entities.subset import Subset\n",
    "from ote_sdk.entities.task_environment import TaskEnvironment\n",
    "from ote_sdk.usecases.tasks.interfaces.export_interface import ExportType\n",
    "from ote_cli.utils.io import read_label_schema, read_model\n",
    "\n",
    "from ote_cli.datasets import get_dataset_class\n",
    "from ote_cli.registry import Registry\n",
    "from ote_cli.utils.importing import get_impl_class"
   ]
  },
  {
   "cell_type": "markdown",
   "id": "e7ad843f",
   "metadata": {},
   "source": [
    "## Register templates"
   ]
  },
  {
   "cell_type": "code",
   "execution_count": null,
   "id": "22c86d79",
   "metadata": {
    "scrolled": true
   },
   "outputs": [],
   "source": [
    "templates_dir = '../../external'\n",
    "registry = Registry(templates_dir)\n",
    "print(registry)"
   ]
  },
  {
   "cell_type": "markdown",
   "id": "530a64b5",
   "metadata": {},
   "source": [
    "## Load model template and its hyper parameters"
   ]
  },
  {
   "cell_type": "code",
   "execution_count": null,
   "id": "203f08de",
   "metadata": {
    "scrolled": true
   },
   "outputs": [],
   "source": [
    "model_template = registry.get('Custom_Object_Detection_Gen3_SSD')\n",
    "hyper_parameters = model_template.hyper_parameters.data\n",
    "hyper_parameters = create_parameters_from_parameters_schema(hyper_parameters)"
   ]
  },
  {
   "cell_type": "markdown",
   "id": "a5fbfd14",
   "metadata": {},
   "source": [
    "## Get dataset instantiated"
   ]
  },
  {
   "cell_type": "code",
   "execution_count": null,
   "id": "7b43d83e",
   "metadata": {
    "scrolled": false
   },
   "outputs": [],
   "source": [
    "Dataset = get_dataset_class(model_template.task_type)\n",
    "weight = '../../data/exportable_code.zip'\n",
    "\n",
    "dataset = Dataset(\n",
    "    test_subset={'ann_file': '../../data/annotations/instances_NONE.json',\n",
    "                  'data_root': '../../data/fruit5/images/NONE'},\n",
    ")\n",
    "labels_schema = read_label_schema(weight)"
   ]
  },
  {
   "cell_type": "markdown",
   "id": "0af16f4a",
   "metadata": {},
   "source": [
    "## Create Task "
   ]
  },
  {
   "cell_type": "code",
   "execution_count": null,
   "id": "d94afc32",
   "metadata": {},
   "outputs": [],
   "source": [
    "Task = get_impl_class(model_template.entrypoints.openvino)\n",
    "\n",
    "environment = TaskEnvironment(\n",
    "    model=None,\n",
    "    hyper_parameters=hyper_parameters,\n",
    "    label_schema=labels_schema,\n",
    "    model_template=model_template)\n",
    "        \n",
    "environment.model = read_model(environment.get_model_configuration(), weight, None)\n",
    "\n",
    "task = Task(task_environment=environment)"
   ]
  },
  {
   "cell_type": "markdown",
   "id": "c235b6a8",
   "metadata": {},
   "source": [
    "## Evaluate quality metric"
   ]
  },
  {
   "cell_type": "code",
   "execution_count": null,
   "id": "2bb7ffb6",
   "metadata": {
    "scrolled": true
   },
   "outputs": [],
   "source": [
    "validation_dataset = dataset.get_subset(Subset.TESTING)\n",
    "predicted_validation_dataset = task.infer(\n",
    "    validation_dataset.with_empty_annotations(),\n",
    "    InferenceParameters(is_evaluation=True))\n",
    "\n",
    "resultset = ResultSetEntity(\n",
    "        model=environment.model,\n",
    "        ground_truth_dataset=validation_dataset,\n",
    "        prediction_dataset=predicted_validation_dataset,\n",
    "    )\n",
    "task.evaluate(resultset)\n",
    "print(resultset.performance)\n"
   ]
  },
  {
   "cell_type": "markdown",
   "id": "e810af6c",
   "metadata": {},
   "source": [
    "## Draw bounding boxes"
   ]
  },
  {
   "cell_type": "code",
   "execution_count": null,
   "id": "63bae4d5",
   "metadata": {
    "scrolled": false
   },
   "outputs": [],
   "source": [
    "import IPython\n",
    "import PIL\n",
    "\n",
    "for predictions, item in zip(predicted_validation_dataset, validation_dataset.with_empty_annotations()):\n",
    "    image = item.numpy.astype(np.uint8)\n",
    "    for box, label in zip(predictions.annotation_scene.shapes, predictions.annotation_scene.get_labels()):\n",
    "        x1 = int(box.x1 * image.shape[1])\n",
    "        x2 = int(box.x2 * image.shape[1])\n",
    "        y1 = int(box.y1 * image.shape[0])\n",
    "        y2 = int(box.y2 * image.shape[0])\n",
    "        cv2.rectangle(image, (x1, y1+5), (x2, y2), (0, 0, 255), 3)  \n",
    "        cv2.putText(image, label.name, (x1, y1), cv2.FONT_HERSHEY_SIMPLEX, 1, (0, 0, 255), 2, cv2.LINE_AA)\n",
    "    IPython.display.display(PIL.Image.fromarray(image))\n",
    "    break"
   ]
  }
 ],
 "metadata": {
  "kernelspec": {
   "display_name": "Python 3 (ipykernel)",
   "language": "python",
   "name": "python3"
  },
  "language_info": {
   "codemirror_mode": {
    "name": "ipython",
    "version": 3
   },
   "file_extension": ".py",
   "mimetype": "text/x-python",
   "name": "python",
   "nbconvert_exporter": "python",
   "pygments_lexer": "ipython3",
   "version": "3.8.10"
  }
 },
 "nbformat": 4,
 "nbformat_minor": 5
}
