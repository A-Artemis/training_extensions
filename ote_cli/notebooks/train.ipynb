{
 "cells": [
  {
   "cell_type": "markdown",
   "id": "a00b3aed",
   "metadata": {},
   "source": [
    "# Object Detection"
   ]
  },
  {
   "cell_type": "markdown",
   "id": "9548bf78",
   "metadata": {},
   "source": [
    "## Import everything"
   ]
  },
  {
   "cell_type": "code",
   "execution_count": null,
   "id": "717eca7a",
   "metadata": {
    "scrolled": false
   },
   "outputs": [],
   "source": [
    "import os\n",
    "import yaml\n",
    "import sys\n",
    "\n",
    "from ote_cli.common import (add_hyper_parameters_sub_parser, create_project,\n",
    "                            gen_params_dict_from_args, get_task_impl_class,\n",
    "                            load_config, load_model_weights)\n",
    "from ote_cli.datasets import get_dataset_class\n",
    "from ote_cli.registry.registry import Registry\n",
    "from sc_sdk.entities.analyse_parameters import AnalyseParameters\n",
    "from sc_sdk.entities.datasets import NullDataset, Subset\n",
    "from sc_sdk.entities.model import Model\n",
    "from sc_sdk.entities.resultset import ResultSet\n",
    "from sc_sdk.entities.task_environment import TaskEnvironment"
   ]
  },
  {
   "cell_type": "markdown",
   "id": "e7ad843f",
   "metadata": {},
   "source": [
    "## Register templates"
   ]
  },
  {
   "cell_type": "code",
   "execution_count": null,
   "id": "22c86d79",
   "metadata": {},
   "outputs": [],
   "source": [
    "templates_dir = '../../model_templates'\n",
    "registry = Registry(templates_dir)\n",
    "registry = registry.filter(framework=sys.executable.split(os.sep)[-4])\n",
    "\n",
    "print(registry)"
   ]
  },
  {
   "cell_type": "markdown",
   "id": "530a64b5",
   "metadata": {},
   "source": [
    "## Load model template"
   ]
  },
  {
   "cell_type": "code",
   "execution_count": null,
   "id": "203f08de",
   "metadata": {
    "scrolled": false
   },
   "outputs": [],
   "source": [
    "template = registry.get('Custom_Object_Detection_256x256')\n",
    "config = load_config(template['path'])\n",
    "config['hyper_parameters']['params'].setdefault('algo_backend', {})['template'] = os.path.abspath(template['path'])"
   ]
  },
  {
   "cell_type": "markdown",
   "id": "a5fbfd14",
   "metadata": {},
   "source": [
    "## Get training task and dataset instantiated"
   ]
  },
  {
   "cell_type": "code",
   "execution_count": null,
   "id": "7b43d83e",
   "metadata": {
    "scrolled": true
   },
   "outputs": [],
   "source": [
    "Task = get_task_impl_class(config)\n",
    "Dataset = get_dataset_class(config['domain'])\n",
    "\n",
    "dataset_paths = {\n",
    "    'train_ann_file' : '../../data/airport/annotation_faces_train.json',\n",
    "    'train_data_root' : '../../data/airport/',\n",
    "    'val_ann_file' : '../../data/airport/annotation_faces_train.json',\n",
    "    'val_data_root' : '../../data/airport/',\n",
    "}\n",
    "\n",
    "dataset = Dataset(**dataset_paths)\n",
    "\n",
    "project = create_project(dataset.get_labels())\n",
    "environment = TaskEnvironment(project=project, task_node=project.tasks[-1])\n",
    "params = Task.get_configurable_parameters(environment)\n",
    "Task.apply_template_configurable_parameters(params, config)\n",
    "environment.set_configurable_parameters(params)\n",
    "task = Task(task_environment=environment)\n",
    "\n",
    "dataset.set_project_labels(project.get_labels())"
   ]
  },
  {
   "cell_type": "markdown",
   "id": "89e0f835",
   "metadata": {},
   "source": [
    "## Have a look at existing parameters"
   ]
  },
  {
   "cell_type": "code",
   "execution_count": null,
   "id": "04ba0aa4",
   "metadata": {
    "scrolled": false
   },
   "outputs": [],
   "source": [
    "params = task.get_configurable_parameters(environment)\n",
    "yaml.dump(params.learning_parameters, sys.stdout)"
   ]
  },
  {
   "cell_type": "markdown",
   "id": "3922a4ff",
   "metadata": {},
   "source": [
    "## Tweak parameters"
   ]
  },
  {
   "cell_type": "code",
   "execution_count": null,
   "id": "286a2baf",
   "metadata": {
    "scrolled": false
   },
   "outputs": [],
   "source": [
    "params.learning_parameters.learning_rate.value = 1e-3\n",
    "params.learning_parameters.learning_rate_schedule.value = 'cyclic'\n",
    "params.learning_parameters.batch_size.value = 2\n",
    "params.learning_parameters.num_epochs.value = 10\n",
    "\n",
    "environment.set_configurable_parameters(params)\n",
    "task.update_configurable_parameters(environment)"
   ]
  },
  {
   "cell_type": "markdown",
   "id": "0af16f4a",
   "metadata": {},
   "source": [
    "## Train a model"
   ]
  },
  {
   "cell_type": "code",
   "execution_count": null,
   "id": "cd9896ee",
   "metadata": {
    "scrolled": true
   },
   "outputs": [],
   "source": [
    "model = task.train(dataset)"
   ]
  },
  {
   "cell_type": "markdown",
   "id": "c235b6a8",
   "metadata": {},
   "source": [
    "## Evaluate quality metric"
   ]
  },
  {
   "cell_type": "code",
   "execution_count": null,
   "id": "2bb7ffb6",
   "metadata": {
    "scrolled": false
   },
   "outputs": [],
   "source": [
    "validation_dataset = dataset.get_subset(Subset.VALIDATION)\n",
    "predicted_validation_dataset = task.analyse(\n",
    "    validation_dataset.with_empty_annotations(),\n",
    "    AnalyseParameters(is_evaluation=True))\n",
    "\n",
    "resultset = ResultSet(\n",
    "    model=model,\n",
    "    ground_truth_dataset=validation_dataset,\n",
    "    prediction_dataset=predicted_validation_dataset,\n",
    ")\n",
    "\n",
    "performance = task.compute_performance(resultset)\n",
    "resultset.performance = performance"
   ]
  }
 ],
 "metadata": {
  "kernelspec": {
   "display_name": "Python 3",
   "language": "python",
   "name": "python3"
  },
  "language_info": {
   "codemirror_mode": {
    "name": "ipython",
    "version": 3
   },
   "file_extension": ".py",
   "mimetype": "text/x-python",
   "name": "python",
   "nbconvert_exporter": "python",
   "pygments_lexer": "ipython3",
   "version": "3.8.5"
  }
 },
 "nbformat": 4,
 "nbformat_minor": 5
}
