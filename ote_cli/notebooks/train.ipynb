{
 "cells": [
  {
   "cell_type": "markdown",
   "id": "a00b3aed",
   "metadata": {},
   "source": [
    "# Object Detection"
   ]
  },
  {
   "cell_type": "markdown",
   "id": "9548bf78",
   "metadata": {},
   "source": [
    "## Import everything"
   ]
  },
  {
   "cell_type": "code",
   "execution_count": null,
   "id": "717eca7a",
   "metadata": {
    "scrolled": true
   },
   "outputs": [],
   "source": [
    "import os\n",
    "import sys\n",
    "\n",
    "import cv2\n",
    "import numpy as np\n",
    "import yaml\n",
    "\n",
    "from sc_sdk.entities.datasets import Subset\n",
    "from sc_sdk.entities.dataset_storage import NullDatasetStorage\n",
    "from sc_sdk.entities.id import ID\n",
    "from sc_sdk.entities.inference_parameters import InferenceParameters\n",
    "from sc_sdk.entities.model import Model, ModelStatus, NullModel\n",
    "from sc_sdk.entities.model_storage import NullModelStorage\n",
    "from sc_sdk.entities.optimized_model import ModelOptimizationType, ModelPrecision, OptimizedModel, TargetDevice\n",
    "from sc_sdk.entities.project import NullProject\n",
    "from sc_sdk.entities.resultset import ResultSet\n",
    "from sc_sdk.entities.task_environment import TaskEnvironment\n",
    "from sc_sdk.usecases.tasks.interfaces.export_interface import ExportType\n",
    "\n",
    "from ote_cli.datasets import get_dataset_class\n",
    "from ote_cli.registry import Registry\n",
    "from ote_cli.utils.config import apply_template_configurable_parameters\n",
    "from ote_cli.utils.labels import generate_label_schema\n",
    "from ote_cli.utils.loading import load_config\n",
    "from ote_cli.utils.importing import get_impl_class"
   ]
  },
  {
   "cell_type": "markdown",
   "id": "e7ad843f",
   "metadata": {},
   "source": [
    "## Register templates"
   ]
  },
  {
   "cell_type": "code",
   "execution_count": null,
   "id": "22c86d79",
   "metadata": {
    "scrolled": true
   },
   "outputs": [],
   "source": [
    "templates_dir = '../../model_templates'\n",
    "registry = Registry(templates_dir)\n",
    "registry = registry.filter(framework=sys.executable.split(os.sep)[-4])\n",
    "\n",
    "print(registry)"
   ]
  },
  {
   "cell_type": "markdown",
   "id": "530a64b5",
   "metadata": {},
   "source": [
    "## Load model template"
   ]
  },
  {
   "cell_type": "code",
   "execution_count": null,
   "id": "203f08de",
   "metadata": {
    "scrolled": true
   },
   "outputs": [],
   "source": [
    "template = registry.get('Custom_Object_Detection_256x256')\n",
    "config = load_config(template['path'])\n",
    "config['hyper_parameters']['params'].setdefault('algo_backend', {})['template'] = os.path.abspath(template['path'])"
   ]
  },
  {
   "cell_type": "markdown",
   "id": "a5fbfd14",
   "metadata": {},
   "source": [
    "## Get training task and dataset instantiated"
   ]
  },
  {
   "cell_type": "code",
   "execution_count": null,
   "id": "7b43d83e",
   "metadata": {
    "scrolled": false
   },
   "outputs": [],
   "source": [
    "Task = get_impl_class(config['task']['base'])\n",
    "ConfigurableParameters = get_impl_class(config['hyper_parameters']['impl'])\n",
    "Dataset = get_dataset_class(config['domain'])\n",
    "\n",
    "dataset_paths = {\n",
    "    'train_ann_file' : '../../data/airport/annotation_faces_train.json',\n",
    "    'train_data_root' : '../../data/airport/',\n",
    "    'val_ann_file' : '../../data/airport/annotation_faces_train.json',\n",
    "    'val_data_root' : '../../data/airport/',\n",
    "}\n",
    "\n",
    "dataset = Dataset(**dataset_paths, dataset_storage=NullDatasetStorage())\n",
    "\n",
    "params = ConfigurableParameters(workspace_id=ID(), model_storage_id=ID())\n",
    "apply_template_configurable_parameters(params, config)\n",
    "\n",
    "labels_schema = generate_label_schema(dataset.get_labels(), config['domain'])\n",
    "dataset.set_project_labels(labels_schema.get_labels(False))"
   ]
  },
  {
   "cell_type": "markdown",
   "id": "89e0f835",
   "metadata": {},
   "source": [
    "## Have a look at existing parameters"
   ]
  },
  {
   "cell_type": "code",
   "execution_count": null,
   "id": "04ba0aa4",
   "metadata": {
    "scrolled": true
   },
   "outputs": [],
   "source": [
    "for p in params.learning_parameters.parameters:\n",
    "    print(f'{p}: {getattr(params.learning_parameters, p)}')"
   ]
  },
  {
   "cell_type": "markdown",
   "id": "3922a4ff",
   "metadata": {},
   "source": [
    "## Tweak parameters"
   ]
  },
  {
   "cell_type": "code",
   "execution_count": null,
   "id": "286a2baf",
   "metadata": {
    "scrolled": false
   },
   "outputs": [],
   "source": [
    "params.learning_parameters.batch_size = 16\n",
    "params.learning_parameters.num_iters = 100\n",
    "\n",
    "for p in params.learning_parameters.parameters:\n",
    "    print(f'{p}: {getattr(params.learning_parameters, p)}')"
   ]
  },
  {
   "cell_type": "markdown",
   "id": "0af16f4a",
   "metadata": {},
   "source": [
    "## Create Task "
   ]
  },
  {
   "cell_type": "code",
   "execution_count": null,
   "id": "d94afc32",
   "metadata": {},
   "outputs": [],
   "source": [
    "environment = TaskEnvironment(model=NullModel(), hyper_parameters=params, label_schema=labels_schema)\n",
    "task = Task(task_environment=environment)"
   ]
  },
  {
   "cell_type": "markdown",
   "id": "8b02f5fe",
   "metadata": {},
   "source": [
    "## Run training"
   ]
  },
  {
   "cell_type": "code",
   "execution_count": null,
   "id": "cd9896ee",
   "metadata": {
    "scrolled": true
   },
   "outputs": [],
   "source": [
    "output_model = Model(\n",
    "    NullProject(),\n",
    "    NullModelStorage(),\n",
    "    dataset,\n",
    "    environment.get_model_configuration(),\n",
    "    model_status=ModelStatus.NOT_READY)\n",
    "\n",
    "task.train(dataset, output_model)"
   ]
  },
  {
   "cell_type": "markdown",
   "id": "c235b6a8",
   "metadata": {},
   "source": [
    "## Evaluate quality metric"
   ]
  },
  {
   "cell_type": "code",
   "execution_count": null,
   "id": "2bb7ffb6",
   "metadata": {
    "scrolled": true
   },
   "outputs": [],
   "source": [
    "validation_dataset = dataset.get_subset(Subset.VALIDATION)\n",
    "predicted_validation_dataset = task.infer(\n",
    "    validation_dataset.with_empty_annotations(),\n",
    "    InferenceParameters(is_evaluation=True))\n",
    "\n",
    "resultset = ResultSet(\n",
    "    model=output_model,\n",
    "    ground_truth_dataset=validation_dataset,\n",
    "    prediction_dataset=predicted_validation_dataset,\n",
    ")\n",
    "performance = task.evaluate(resultset)\n",
    "print(performance)\n"
   ]
  },
  {
   "cell_type": "markdown",
   "id": "4784e973",
   "metadata": {},
   "source": [
    "## Export model to OpenVINO format"
   ]
  },
  {
   "cell_type": "code",
   "execution_count": null,
   "id": "04d5f811",
   "metadata": {
    "scrolled": true
   },
   "outputs": [],
   "source": [
    "exported_model = OptimizedModel(\n",
    "    NullProject(),\n",
    "    NullModelStorage(),\n",
    "    dataset,\n",
    "    environment.get_model_configuration(),\n",
    "    ModelOptimizationType.MO,\n",
    "    precision=[ModelPrecision.FP16],\n",
    "    optimization_methods=[],\n",
    "    optimization_level={},\n",
    "    target_device=TargetDevice.UNSPECIFIED,\n",
    "    performance_improvement={},\n",
    "    model_size_reduction=1.,\n",
    "    model_status=ModelStatus.NOT_READY)\n",
    "task.export(ExportType.OPENVINO, exported_model)"
   ]
  },
  {
   "cell_type": "markdown",
   "id": "7327b120",
   "metadata": {},
   "source": [
    "## Evaluate the exported model"
   ]
  },
  {
   "cell_type": "code",
   "execution_count": null,
   "id": "d6b01094",
   "metadata": {
    "scrolled": true
   },
   "outputs": [],
   "source": [
    "environment.model = exported_model\n",
    "ov_task = get_impl_class(config['task']['openvino'])(environment)\n",
    "predicted_validation_dataset = ov_task.infer(\n",
    "    validation_dataset.with_empty_annotations(),\n",
    "    InferenceParameters(is_evaluation=True))\n",
    "resultset = ResultSet(\n",
    "    model=output_model,\n",
    "    ground_truth_dataset=validation_dataset,\n",
    "    prediction_dataset=predicted_validation_dataset,\n",
    ")\n",
    "performance = ov_task.evaluate(resultset)\n",
    "print(performance)"
   ]
  },
  {
   "cell_type": "markdown",
   "id": "e810af6c",
   "metadata": {},
   "source": [
    "## Draw bounding boxes"
   ]
  },
  {
   "cell_type": "code",
   "execution_count": null,
   "id": "63bae4d5",
   "metadata": {
    "scrolled": false
   },
   "outputs": [],
   "source": [
    "import IPython\n",
    "import PIL\n",
    "\n",
    "for predictions, item in zip(predicted_validation_dataset, validation_dataset.with_empty_annotations()):\n",
    "    image = item.numpy.astype(np.uint8)\n",
    "    for box in predictions.annotation_scene.shapes:\n",
    "        x1 = int(box.x1 * image.shape[1])\n",
    "        x2 = int(box.x2 * image.shape[1])\n",
    "        y1 = int(box.y1 * image.shape[0])\n",
    "        y2 = int(box.y2 * image.shape[0])\n",
    "        cv2.rectangle(image, (x1, y1), (x2, y2), (0, 0, 255), 3)  \n",
    "    image = cv2.cvtColor(image, cv2.COLOR_RGB2BGR)\n",
    "    IPython.display.display(PIL.Image.fromarray(image))"
   ]
  }
 ],
 "metadata": {
  "kernelspec": {
   "display_name": "Python 3 (ipykernel)",
   "language": "python",
   "name": "python3"
  },
  "language_info": {
   "codemirror_mode": {
    "name": "ipython",
    "version": 3
   },
   "file_extension": ".py",
   "mimetype": "text/x-python",
   "name": "python",
   "nbconvert_exporter": "python",
   "pygments_lexer": "ipython3",
   "version": "3.8.10"
  }
 },
 "nbformat": 4,
 "nbformat_minor": 5
}
