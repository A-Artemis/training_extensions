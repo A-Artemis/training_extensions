{
 "cells": [
  {
   "cell_type": "markdown",
   "id": "a00b3aed",
   "metadata": {},
   "source": [
    "# Object Detection"
   ]
  },
  {
   "cell_type": "markdown",
   "id": "9548bf78",
   "metadata": {},
   "source": [
    "## Import everything"
   ]
  },
  {
   "cell_type": "code",
   "execution_count": 3,
   "id": "717eca7a",
   "metadata": {
    "scrolled": false
   },
   "outputs": [],
   "source": [
    "import os\n",
    "import yaml\n",
    "import sys\n",
    "\n",
    "from ote_cli.common import (add_hyper_parameters_sub_parser, create_project,\n",
    "                            gen_params_dict_from_args, get_task_impl_class,\n",
    "                            load_config, load_model_weights)\n",
    "from ote_cli.datasets import get_dataset_class\n",
    "from ote_cli.registry.registry import Registry\n",
    "from sc_sdk.entities.analyse_parameters import AnalyseParameters\n",
    "from sc_sdk.entities.datasets import NullDataset, Subset\n",
    "from sc_sdk.entities.model import Model\n",
    "from sc_sdk.entities.resultset import ResultSet\n",
    "from sc_sdk.entities.task_environment import TaskEnvironment"
   ]
  },
  {
   "cell_type": "markdown",
   "id": "e7ad843f",
   "metadata": {},
   "source": [
    "## Register templates"
   ]
  },
  {
   "cell_type": "code",
   "execution_count": 4,
   "id": "22c86d79",
   "metadata": {},
   "outputs": [
    {
     "name": "stdout",
     "output_type": "stream",
     "text": [
      "- domain: Object_Detection\n",
      "  framework: OTEDetection_v2.9.1\n",
      "  name: Custom_Object_Detection_Gen2_ATSS\n",
      "  path: /home/ikrylov/git/openvino_training_extensions/model_templates/OTEDetection_v2.9.1/Object_Detection/Custom_Object_Detection_Gen2_ATSS/template.yaml\n",
      "- domain: Object_Detection\n",
      "  framework: OTEDetection_v2.9.1\n",
      "  name: Custom_Object_Detection_Gen2_SSD\n",
      "  path: /home/ikrylov/git/openvino_training_extensions/model_templates/OTEDetection_v2.9.1/Object_Detection/Custom_Object_Detection_Gen2_SSD/template.yaml\n",
      "- domain: Object_Detection\n",
      "  framework: OTEDetection_v2.9.1\n",
      "  name: Custom_Object_Detection_Gen2_VFNet\n",
      "  path: /home/ikrylov/git/openvino_training_extensions/model_templates/OTEDetection_v2.9.1/Object_Detection/Custom_Object_Detection_Gen2_VFNet/template.yaml\n",
      "- domain: Object_Detection\n",
      "  framework: OTEDetection_v2.9.1\n",
      "  name: Custom_Object_Detection_256x256\n",
      "  path: /home/ikrylov/git/openvino_training_extensions/model_templates/OTEDetection_v2.9.1/Object_Detection/Custom_Object_Detection_256x256/template.yaml\n",
      "- domain: Object_Detection\n",
      "  framework: OTEDetection_v2.9.1\n",
      "  name: Custom_Object_Detection_384x384\n",
      "  path: /home/ikrylov/git/openvino_training_extensions/model_templates/OTEDetection_v2.9.1/Object_Detection/Custom_Object_Detection_384x384/template.yaml\n",
      "- domain: Object_Detection\n",
      "  framework: OTEDetection_v2.9.1\n",
      "  name: Custom_Object_Detection_512x512\n",
      "  path: /home/ikrylov/git/openvino_training_extensions/model_templates/OTEDetection_v2.9.1/Object_Detection/Custom_Object_Detection_512x512/template.yaml\n",
      "\n"
     ]
    }
   ],
   "source": [
    "templates_dir = '../../model_templates'\n",
    "registry = Registry(templates_dir)\n",
    "registry = registry.filter(framework=sys.executable.split(os.sep)[-4])\n",
    "\n",
    "print(registry)"
   ]
  },
  {
   "cell_type": "markdown",
   "id": "530a64b5",
   "metadata": {},
   "source": [
    "## Load model template"
   ]
  },
  {
   "cell_type": "code",
   "execution_count": 5,
   "id": "203f08de",
   "metadata": {
    "scrolled": false
   },
   "outputs": [],
   "source": [
    "template = registry.get('Custom_Object_Detection_256x256')\n",
    "config = load_config(template['path'])\n",
    "config['hyper_parameters']['params'].setdefault('algo_backend', {})['template'] = os.path.abspath(template['path'])"
   ]
  },
  {
   "cell_type": "markdown",
   "id": "a5fbfd14",
   "metadata": {},
   "source": [
    "## Get training task and dataset instantiated"
   ]
  },
  {
   "cell_type": "code",
   "execution_count": 6,
   "id": "7b43d83e",
   "metadata": {
    "scrolled": true
   },
   "outputs": [
    {
     "ename": "ModuleNotFoundError",
     "evalue": "No module named 'sc_sdk.usecases.tasks.interfaces.configurable_parameters_interface'",
     "output_type": "error",
     "traceback": [
      "\u001b[0;31m---------------------------------------------------------------------------\u001b[0m",
      "\u001b[0;31mModuleNotFoundError\u001b[0m                       Traceback (most recent call last)",
      "\u001b[0;32m<ipython-input-6-b5f0df7d23f2>\u001b[0m in \u001b[0;36m<module>\u001b[0;34m\u001b[0m\n\u001b[0;32m----> 1\u001b[0;31m \u001b[0mTask\u001b[0m \u001b[0;34m=\u001b[0m \u001b[0mget_task_impl_class\u001b[0m\u001b[0;34m(\u001b[0m\u001b[0mconfig\u001b[0m\u001b[0;34m)\u001b[0m\u001b[0;34m\u001b[0m\u001b[0;34m\u001b[0m\u001b[0m\n\u001b[0m\u001b[1;32m      2\u001b[0m \u001b[0mDataset\u001b[0m \u001b[0;34m=\u001b[0m \u001b[0mget_dataset_class\u001b[0m\u001b[0;34m(\u001b[0m\u001b[0mconfig\u001b[0m\u001b[0;34m[\u001b[0m\u001b[0;34m'domain'\u001b[0m\u001b[0;34m]\u001b[0m\u001b[0;34m)\u001b[0m\u001b[0;34m\u001b[0m\u001b[0;34m\u001b[0m\u001b[0m\n\u001b[1;32m      3\u001b[0m \u001b[0;34m\u001b[0m\u001b[0m\n\u001b[1;32m      4\u001b[0m dataset_paths = {\n\u001b[1;32m      5\u001b[0m     \u001b[0;34m'train_ann_file'\u001b[0m \u001b[0;34m:\u001b[0m \u001b[0;34m'../../data/airport/annotation_faces_train.json'\u001b[0m\u001b[0;34m,\u001b[0m\u001b[0;34m\u001b[0m\u001b[0;34m\u001b[0m\u001b[0m\n",
      "\u001b[0;32m~/git/openvino_training_extensions/ote_cli/ote_cli/common.py\u001b[0m in \u001b[0;36mget_task_impl_class\u001b[0;34m(config)\u001b[0m\n\u001b[1;32m     40\u001b[0m \u001b[0;32mdef\u001b[0m \u001b[0mget_task_impl_class\u001b[0m\u001b[0;34m(\u001b[0m\u001b[0mconfig\u001b[0m\u001b[0;34m)\u001b[0m\u001b[0;34m:\u001b[0m\u001b[0;34m\u001b[0m\u001b[0;34m\u001b[0m\u001b[0m\n\u001b[1;32m     41\u001b[0m     \u001b[0mtask_impl_module_name\u001b[0m\u001b[0;34m,\u001b[0m \u001b[0mtask_impl_class_name\u001b[0m  \u001b[0;34m=\u001b[0m \u001b[0mconfig\u001b[0m\u001b[0;34m[\u001b[0m\u001b[0;34m'task'\u001b[0m\u001b[0;34m]\u001b[0m\u001b[0;34m[\u001b[0m\u001b[0;34m'impl'\u001b[0m\u001b[0;34m]\u001b[0m\u001b[0;34m.\u001b[0m\u001b[0mrsplit\u001b[0m\u001b[0;34m(\u001b[0m\u001b[0;34m'.'\u001b[0m\u001b[0;34m,\u001b[0m \u001b[0;36m1\u001b[0m\u001b[0;34m)\u001b[0m\u001b[0;34m\u001b[0m\u001b[0;34m\u001b[0m\u001b[0m\n\u001b[0;32m---> 42\u001b[0;31m     \u001b[0mtask_impl_module\u001b[0m \u001b[0;34m=\u001b[0m \u001b[0mimportlib\u001b[0m\u001b[0;34m.\u001b[0m\u001b[0mimport_module\u001b[0m\u001b[0;34m(\u001b[0m\u001b[0mtask_impl_module_name\u001b[0m\u001b[0;34m)\u001b[0m\u001b[0;34m\u001b[0m\u001b[0;34m\u001b[0m\u001b[0m\n\u001b[0m\u001b[1;32m     43\u001b[0m     \u001b[0mtask_impl_class\u001b[0m \u001b[0;34m=\u001b[0m \u001b[0mgetattr\u001b[0m\u001b[0;34m(\u001b[0m\u001b[0mtask_impl_module\u001b[0m\u001b[0;34m,\u001b[0m \u001b[0mtask_impl_class_name\u001b[0m\u001b[0;34m)\u001b[0m\u001b[0;34m\u001b[0m\u001b[0;34m\u001b[0m\u001b[0m\n\u001b[1;32m     44\u001b[0m \u001b[0;34m\u001b[0m\u001b[0m\n",
      "\u001b[0;32m/usr/lib/python3.8/importlib/__init__.py\u001b[0m in \u001b[0;36mimport_module\u001b[0;34m(name, package)\u001b[0m\n\u001b[1;32m    125\u001b[0m                 \u001b[0;32mbreak\u001b[0m\u001b[0;34m\u001b[0m\u001b[0;34m\u001b[0m\u001b[0m\n\u001b[1;32m    126\u001b[0m             \u001b[0mlevel\u001b[0m \u001b[0;34m+=\u001b[0m \u001b[0;36m1\u001b[0m\u001b[0;34m\u001b[0m\u001b[0;34m\u001b[0m\u001b[0m\n\u001b[0;32m--> 127\u001b[0;31m     \u001b[0;32mreturn\u001b[0m \u001b[0m_bootstrap\u001b[0m\u001b[0;34m.\u001b[0m\u001b[0m_gcd_import\u001b[0m\u001b[0;34m(\u001b[0m\u001b[0mname\u001b[0m\u001b[0;34m[\u001b[0m\u001b[0mlevel\u001b[0m\u001b[0;34m:\u001b[0m\u001b[0;34m]\u001b[0m\u001b[0;34m,\u001b[0m \u001b[0mpackage\u001b[0m\u001b[0;34m,\u001b[0m \u001b[0mlevel\u001b[0m\u001b[0;34m)\u001b[0m\u001b[0;34m\u001b[0m\u001b[0;34m\u001b[0m\u001b[0m\n\u001b[0m\u001b[1;32m    128\u001b[0m \u001b[0;34m\u001b[0m\u001b[0m\n\u001b[1;32m    129\u001b[0m \u001b[0;34m\u001b[0m\u001b[0m\n",
      "\u001b[0;32m/usr/lib/python3.8/importlib/_bootstrap.py\u001b[0m in \u001b[0;36m_gcd_import\u001b[0;34m(name, package, level)\u001b[0m\n",
      "\u001b[0;32m/usr/lib/python3.8/importlib/_bootstrap.py\u001b[0m in \u001b[0;36m_find_and_load\u001b[0;34m(name, import_)\u001b[0m\n",
      "\u001b[0;32m/usr/lib/python3.8/importlib/_bootstrap.py\u001b[0m in \u001b[0;36m_find_and_load_unlocked\u001b[0;34m(name, import_)\u001b[0m\n",
      "\u001b[0;32m/usr/lib/python3.8/importlib/_bootstrap.py\u001b[0m in \u001b[0;36m_load_unlocked\u001b[0;34m(spec)\u001b[0m\n",
      "\u001b[0;32m/usr/lib/python3.8/importlib/_bootstrap_external.py\u001b[0m in \u001b[0;36mexec_module\u001b[0;34m(self, module)\u001b[0m\n",
      "\u001b[0;32m/usr/lib/python3.8/importlib/_bootstrap.py\u001b[0m in \u001b[0;36m_call_with_frames_removed\u001b[0;34m(f, *args, **kwds)\u001b[0m\n",
      "\u001b[0;32m~/git/openvino_training_extensions/external/mmdetection/mmdet/apis/ote/apis/detection/__init__.py\u001b[0m in \u001b[0;36m<module>\u001b[0;34m\u001b[0m\n\u001b[1;32m     14\u001b[0m \u001b[0;34m\u001b[0m\u001b[0m\n\u001b[1;32m     15\u001b[0m \u001b[0;32mfrom\u001b[0m \u001b[0;34m.\u001b[0m\u001b[0mconfigurable_parameters\u001b[0m \u001b[0;32mimport\u001b[0m \u001b[0mMMDetectionParameters\u001b[0m\u001b[0;34m\u001b[0m\u001b[0;34m\u001b[0m\u001b[0m\n\u001b[0;32m---> 16\u001b[0;31m \u001b[0;32mfrom\u001b[0m \u001b[0;34m.\u001b[0m\u001b[0mtask\u001b[0m \u001b[0;32mimport\u001b[0m \u001b[0mMMObjectDetectionTask\u001b[0m\u001b[0;34m,\u001b[0m \u001b[0mMMDetectionTaskType\u001b[0m\u001b[0;34m\u001b[0m\u001b[0;34m\u001b[0m\u001b[0m\n\u001b[0m\u001b[1;32m     17\u001b[0m \u001b[0;34m\u001b[0m\u001b[0m\n\u001b[1;32m     18\u001b[0m \u001b[0m__all__\u001b[0m \u001b[0;34m=\u001b[0m \u001b[0;34m[\u001b[0m\u001b[0mMMDetectionParameters\u001b[0m\u001b[0;34m,\u001b[0m \u001b[0mMMObjectDetectionTask\u001b[0m\u001b[0;34m,\u001b[0m \u001b[0mMMDetectionTaskType\u001b[0m\u001b[0;34m]\u001b[0m\u001b[0;34m\u001b[0m\u001b[0;34m\u001b[0m\u001b[0m\n",
      "\u001b[0;32m~/git/openvino_training_extensions/external/mmdetection/mmdet/apis/ote/apis/detection/task.py\u001b[0m in \u001b[0;36m<module>\u001b[0;34m\u001b[0m\n\u001b[1;32m     45\u001b[0m \u001b[0;32mfrom\u001b[0m \u001b[0msc_sdk\u001b[0m\u001b[0;34m.\u001b[0m\u001b[0musecases\u001b[0m\u001b[0;34m.\u001b[0m\u001b[0mrepos\u001b[0m \u001b[0;32mimport\u001b[0m \u001b[0mBinaryRepo\u001b[0m\u001b[0;34m\u001b[0m\u001b[0;34m\u001b[0m\u001b[0m\n\u001b[1;32m     46\u001b[0m \u001b[0;32mfrom\u001b[0m \u001b[0msc_sdk\u001b[0m\u001b[0;34m.\u001b[0m\u001b[0musecases\u001b[0m\u001b[0;34m.\u001b[0m\u001b[0mtasks\u001b[0m\u001b[0;34m.\u001b[0m\u001b[0mimage_deep_learning_task\u001b[0m \u001b[0;32mimport\u001b[0m \u001b[0mImageDeepLearningTask\u001b[0m\u001b[0;34m\u001b[0m\u001b[0;34m\u001b[0m\u001b[0m\n\u001b[0;32m---> 47\u001b[0;31m \u001b[0;32mfrom\u001b[0m \u001b[0msc_sdk\u001b[0m\u001b[0;34m.\u001b[0m\u001b[0musecases\u001b[0m\u001b[0;34m.\u001b[0m\u001b[0mtasks\u001b[0m\u001b[0;34m.\u001b[0m\u001b[0minterfaces\u001b[0m\u001b[0;34m.\u001b[0m\u001b[0mconfigurable_parameters_interface\u001b[0m \u001b[0;32mimport\u001b[0m \u001b[0mIConfigurableParameters\u001b[0m\u001b[0;34m\u001b[0m\u001b[0;34m\u001b[0m\u001b[0m\n\u001b[0m\u001b[1;32m     48\u001b[0m \u001b[0;32mfrom\u001b[0m \u001b[0msc_sdk\u001b[0m\u001b[0;34m.\u001b[0m\u001b[0musecases\u001b[0m\u001b[0;34m.\u001b[0m\u001b[0mtasks\u001b[0m\u001b[0;34m.\u001b[0m\u001b[0minterfaces\u001b[0m\u001b[0;34m.\u001b[0m\u001b[0mmodel_optimizer\u001b[0m \u001b[0;32mimport\u001b[0m \u001b[0mIModelOptimizer\u001b[0m\u001b[0;34m\u001b[0m\u001b[0;34m\u001b[0m\u001b[0m\n\u001b[1;32m     49\u001b[0m \u001b[0;32mfrom\u001b[0m \u001b[0msc_sdk\u001b[0m\u001b[0;34m.\u001b[0m\u001b[0musecases\u001b[0m\u001b[0;34m.\u001b[0m\u001b[0mtasks\u001b[0m\u001b[0;34m.\u001b[0m\u001b[0minterfaces\u001b[0m\u001b[0;34m.\u001b[0m\u001b[0munload_interface\u001b[0m \u001b[0;32mimport\u001b[0m \u001b[0mIUnload\u001b[0m\u001b[0;34m\u001b[0m\u001b[0;34m\u001b[0m\u001b[0m\n",
      "\u001b[0;31mModuleNotFoundError\u001b[0m: No module named 'sc_sdk.usecases.tasks.interfaces.configurable_parameters_interface'"
     ]
    }
   ],
   "source": [
    "Task = get_task_impl_class(config)\n",
    "Dataset = get_dataset_class(config['domain'])\n",
    "\n",
    "dataset_paths = {\n",
    "    'train_ann_file' : '../../data/airport/annotation_faces_train.json',\n",
    "    'train_data_root' : '../../data/airport/',\n",
    "    'val_ann_file' : '../../data/airport/annotation_faces_train.json',\n",
    "    'val_data_root' : '../../data/airport/',\n",
    "}\n",
    "\n",
    "dataset = Dataset(**dataset_paths)\n",
    "\n",
    "project = create_project(dataset.get_labels())\n",
    "environment = TaskEnvironment(project=project, task_node=project.tasks[-1])\n",
    "params = Task.get_configurable_parameters(environment)\n",
    "Task.apply_template_configurable_parameters(params, config)\n",
    "environment.set_configurable_parameters(params)\n",
    "task = Task(task_environment=environment)\n",
    "\n",
    "dataset.set_project_labels(project.get_labels())"
   ]
  },
  {
   "cell_type": "markdown",
   "id": "89e0f835",
   "metadata": {},
   "source": [
    "## Have a look at existing parameters"
   ]
  },
  {
   "cell_type": "code",
   "execution_count": null,
   "id": "04ba0aa4",
   "metadata": {
    "scrolled": false
   },
   "outputs": [],
   "source": [
    "params = task.get_configurable_parameters(environment)\n",
    "yaml.dump(params.learning_parameters, sys.stdout)"
   ]
  },
  {
   "cell_type": "markdown",
   "id": "3922a4ff",
   "metadata": {},
   "source": [
    "## Tweak parameters"
   ]
  },
  {
   "cell_type": "code",
   "execution_count": null,
   "id": "286a2baf",
   "metadata": {
    "scrolled": false
   },
   "outputs": [],
   "source": [
    "params.learning_parameters.learning_rate.value = 1e-3\n",
    "params.learning_parameters.learning_rate_schedule.value = 'cyclic'\n",
    "params.learning_parameters.batch_size.value = 2\n",
    "params.learning_parameters.num_epochs.value = 10\n",
    "\n",
    "environment.set_configurable_parameters(params)\n",
    "task.update_configurable_parameters(environment)"
   ]
  },
  {
   "cell_type": "markdown",
   "id": "0af16f4a",
   "metadata": {},
   "source": [
    "## Train a model"
   ]
  },
  {
   "cell_type": "code",
   "execution_count": null,
   "id": "cd9896ee",
   "metadata": {
    "scrolled": true
   },
   "outputs": [],
   "source": [
    "model = task.train(dataset)"
   ]
  },
  {
   "cell_type": "markdown",
   "id": "c235b6a8",
   "metadata": {},
   "source": [
    "## Evaluate quality metric"
   ]
  },
  {
   "cell_type": "code",
   "execution_count": null,
   "id": "2bb7ffb6",
   "metadata": {
    "scrolled": false
   },
   "outputs": [],
   "source": [
    "validation_dataset = dataset.get_subset(Subset.VALIDATION)\n",
    "predicted_validation_dataset = task.analyse(\n",
    "    validation_dataset.with_empty_annotations(),\n",
    "    AnalyseParameters(is_evaluation=True))\n",
    "\n",
    "resultset = ResultSet(\n",
    "    model=model,\n",
    "    ground_truth_dataset=validation_dataset,\n",
    "    prediction_dataset=predicted_validation_dataset,\n",
    ")\n",
    "\n",
    "performance = task.compute_performance(resultset)\n",
    "resultset.performance = performance"
   ]
  }
 ],
 "metadata": {
  "kernelspec": {
   "display_name": "Python 3",
   "language": "python",
   "name": "python3"
  },
  "language_info": {
   "codemirror_mode": {
    "name": "ipython",
    "version": 3
   },
   "file_extension": ".py",
   "mimetype": "text/x-python",
   "name": "python",
   "nbconvert_exporter": "python",
   "pygments_lexer": "ipython3",
   "version": "3.8.10"
  }
 },
 "nbformat": 4,
 "nbformat_minor": 5
}
