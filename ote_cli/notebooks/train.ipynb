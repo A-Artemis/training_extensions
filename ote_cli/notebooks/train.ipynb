{
 "cells": [
  {
   "cell_type": "markdown",
   "id": "a00b3aed",
   "metadata": {},
   "source": [
    "# Object Detection"
   ]
  },
  {
   "cell_type": "markdown",
   "id": "9548bf78",
   "metadata": {},
   "source": [
    "## Import everything"
   ]
  },
  {
   "cell_type": "code",
   "execution_count": 1,
   "id": "717eca7a",
   "metadata": {
    "scrolled": true
   },
   "outputs": [],
   "source": [
    "import os\n",
    "import sys\n",
    "\n",
    "import cv2\n",
    "import numpy as np\n",
    "\n",
    "from ote_sdk.configuration.helper import create as create_parameters_from_parameters_schema\n",
    "from ote_sdk.entities.inference_parameters import InferenceParameters\n",
    "from ote_sdk.entities.label_schema import LabelSchemaEntity\n",
    "from ote_sdk.entities.model import ModelEntity\n",
    "from ote_sdk.entities.resultset import ResultSetEntity\n",
    "from ote_sdk.entities.subset import Subset\n",
    "from ote_sdk.entities.task_environment import TaskEnvironment\n",
    "from ote_sdk.usecases.tasks.interfaces.export_interface import ExportType\n",
    "\n",
    "from ote_cli.datasets import get_dataset_class\n",
    "from ote_cli.registry import Registry\n",
    "from ote_cli.utils.importing import get_impl_class"
   ]
  },
  {
   "cell_type": "markdown",
   "id": "e7ad843f",
   "metadata": {},
   "source": [
    "## Register templates"
   ]
  },
  {
   "cell_type": "code",
   "execution_count": 5,
   "id": "22c86d79",
   "metadata": {
    "scrolled": true
   },
   "outputs": [
    {
     "name": "stdout",
     "output_type": "stream",
     "text": [
      "[]\n",
      "\n"
     ]
    }
   ],
   "source": [
    "templates_dir = '../../external'\n",
    "registry = Registry(templates_dir)\n",
    "registry = registry.filter(task_type=sys.executable.split(os.sep)[-4])\n",
    "print(registry)"
   ]
  },
  {
   "cell_type": "markdown",
   "id": "530a64b5",
   "metadata": {},
   "source": [
    "## Load model template and its hyper parameters"
   ]
  },
  {
   "cell_type": "code",
   "execution_count": 4,
   "id": "203f08de",
   "metadata": {
    "scrolled": true
   },
   "outputs": [
    {
     "name": "stdout",
     "output_type": "stream",
     "text": [
      "[]\n"
     ]
    },
    {
     "ename": "ValueError",
     "evalue": "Could not find a template with Custom_Object_Detection_Gen3_ATSS in registry.",
     "output_type": "error",
     "traceback": [
      "\u001b[0;31m---------------------------------------------------------------------------\u001b[0m",
      "\u001b[0;31mValueError\u001b[0m                                Traceback (most recent call last)",
      "\u001b[0;32m/tmp/ipykernel_941891/562503860.py\u001b[0m in \u001b[0;36m<module>\u001b[0;34m\u001b[0m\n\u001b[1;32m      1\u001b[0m \u001b[0mprint\u001b[0m\u001b[0;34m(\u001b[0m\u001b[0mregistry\u001b[0m\u001b[0;34m.\u001b[0m\u001b[0mtemplates\u001b[0m\u001b[0;34m)\u001b[0m\u001b[0;34m\u001b[0m\u001b[0;34m\u001b[0m\u001b[0m\n\u001b[0;32m----> 2\u001b[0;31m \u001b[0mmodel_template\u001b[0m \u001b[0;34m=\u001b[0m \u001b[0mregistry\u001b[0m\u001b[0;34m.\u001b[0m\u001b[0mget\u001b[0m\u001b[0;34m(\u001b[0m\u001b[0;34m'Custom_Object_Detection_Gen3_ATSS'\u001b[0m\u001b[0;34m)\u001b[0m\u001b[0;34m\u001b[0m\u001b[0;34m\u001b[0m\u001b[0m\n\u001b[0m\u001b[1;32m      3\u001b[0m \u001b[0mhyper_parameters\u001b[0m \u001b[0;34m=\u001b[0m \u001b[0mmodel_template\u001b[0m\u001b[0;34m.\u001b[0m\u001b[0mhyper_parameters\u001b[0m\u001b[0;34m.\u001b[0m\u001b[0mdata\u001b[0m\u001b[0;34m\u001b[0m\u001b[0;34m\u001b[0m\u001b[0m\n",
      "\u001b[0;32m~/programs/training_extensions/ote_cli/ote_cli/registry/registry.py\u001b[0m in \u001b[0;36mget\u001b[0;34m(self, template_id)\u001b[0m\n\u001b[1;32m     87\u001b[0m         ]\n\u001b[1;32m     88\u001b[0m         \u001b[0;32mif\u001b[0m \u001b[0;32mnot\u001b[0m \u001b[0mtemplates\u001b[0m\u001b[0;34m:\u001b[0m\u001b[0;34m\u001b[0m\u001b[0;34m\u001b[0m\u001b[0m\n\u001b[0;32m---> 89\u001b[0;31m             raise ValueError(\n\u001b[0m\u001b[1;32m     90\u001b[0m                 \u001b[0;34mf\"Could not find a template with {template_id} in registry.\"\u001b[0m\u001b[0;34m\u001b[0m\u001b[0;34m\u001b[0m\u001b[0m\n\u001b[1;32m     91\u001b[0m             )\n",
      "\u001b[0;31mValueError\u001b[0m: Could not find a template with Custom_Object_Detection_Gen3_ATSS in registry."
     ]
    }
   ],
   "source": [
    "model_template = registry.get('Custom_Object_Detection_Gen3_ATSS')\n",
    "hyper_parameters = model_template.hyper_parameters.data"
   ]
  },
  {
   "cell_type": "markdown",
   "id": "a5fbfd14",
   "metadata": {},
   "source": [
    "## Get dataset instantiated"
   ]
  },
  {
   "cell_type": "code",
   "execution_count": null,
   "id": "7b43d83e",
   "metadata": {
    "scrolled": false
   },
   "outputs": [],
   "source": [
    "Dataset = get_dataset_class(model_template.task_type)\n",
    "\n",
    "dataset = Dataset(\n",
    "    train_subset={'ann_file': '../../data/airport/annotation_faces_train.json',\n",
    "                  'data_root': '../../data/airport/'},\n",
    "    val_subset={'ann_file': '../../data/airport/annotation_faces_train.json',\n",
    "                'data_root': '../../data/airport'}\n",
    ")\n",
    "labels_schema = LabelSchemaEntity.from_labels(dataset.get_labels())"
   ]
  },
  {
   "cell_type": "markdown",
   "id": "a2c260bb",
   "metadata": {},
   "source": [
    "## Have a look at existing parameters"
   ]
  },
  {
   "cell_type": "code",
   "execution_count": null,
   "id": "8c340c7d",
   "metadata": {
    "scrolled": true
   },
   "outputs": [],
   "source": [
    "hyper_parameters = create_parameters_from_parameters_schema(hyper_parameters)\n",
    "\n",
    "for p in hyper_parameters.learning_parameters.parameters:\n",
    "    print(f'{p}: {getattr(hyper_parameters.learning_parameters, p)}')"
   ]
  },
  {
   "cell_type": "markdown",
   "id": "c2c28d21",
   "metadata": {},
   "source": [
    "## Tweak parameters"
   ]
  },
  {
   "cell_type": "code",
   "execution_count": null,
   "id": "c791af77",
   "metadata": {},
   "outputs": [],
   "source": [
    "hyper_parameters.learning_parameters.batch_size = 8\n",
    "hyper_parameters.learning_parameters.num_iters = 5\n",
    "\n",
    "for p in hyper_parameters.learning_parameters.parameters:\n",
    "    print(f'{p}: {getattr(hyper_parameters.learning_parameters, p)}')"
   ]
  },
  {
   "cell_type": "markdown",
   "id": "0af16f4a",
   "metadata": {},
   "source": [
    "## Create Task "
   ]
  },
  {
   "cell_type": "code",
   "execution_count": null,
   "id": "d94afc32",
   "metadata": {},
   "outputs": [],
   "source": [
    "Task = get_impl_class(model_template.entrypoints.base)\n",
    "\n",
    "environment = TaskEnvironment(\n",
    "    model=None,\n",
    "    hyper_parameters=hyper_parameters,\n",
    "    label_schema=labels_schema,\n",
    "    model_template=model_template)\n",
    "        \n",
    "task = Task(task_environment=environment)"
   ]
  },
  {
   "cell_type": "markdown",
   "id": "8b02f5fe",
   "metadata": {},
   "source": [
    "## Run training"
   ]
  },
  {
   "cell_type": "code",
   "execution_count": null,
   "id": "cd9896ee",
   "metadata": {
    "scrolled": true
   },
   "outputs": [],
   "source": [
    "output_model = ModelEntity(\n",
    "    dataset,\n",
    "    environment.get_model_configuration(),\n",
    ")\n",
    "\n",
    "task.train(dataset, output_model)"
   ]
  },
  {
   "cell_type": "markdown",
   "id": "c235b6a8",
   "metadata": {},
   "source": [
    "## Evaluate quality metric"
   ]
  },
  {
   "cell_type": "code",
   "execution_count": null,
   "id": "2bb7ffb6",
   "metadata": {
    "scrolled": true
   },
   "outputs": [],
   "source": [
    "validation_dataset = dataset.get_subset(Subset.VALIDATION)\n",
    "predicted_validation_dataset = task.infer(\n",
    "    validation_dataset.with_empty_annotations(),\n",
    "    InferenceParameters(is_evaluation=True))\n",
    "\n",
    "resultset = ResultSetEntity(\n",
    "    model=output_model,\n",
    "    ground_truth_dataset=validation_dataset,\n",
    "    prediction_dataset=predicted_validation_dataset,\n",
    ")\n",
    "task.evaluate(resultset)\n",
    "print(resultset.performance)\n"
   ]
  },
  {
   "cell_type": "markdown",
   "id": "4784e973",
   "metadata": {},
   "source": [
    "## Export model to OpenVINO format"
   ]
  },
  {
   "cell_type": "code",
   "execution_count": null,
   "id": "04d5f811",
   "metadata": {
    "scrolled": true
   },
   "outputs": [],
   "source": [
    "exported_model = ModelEntity(\n",
    "    dataset,\n",
    "    environment.get_model_configuration(),\n",
    ")\n",
    "task.export(ExportType.OPENVINO, exported_model)"
   ]
  },
  {
   "cell_type": "markdown",
   "id": "7327b120",
   "metadata": {},
   "source": [
    "## Evaluate the exported model"
   ]
  },
  {
   "cell_type": "code",
   "execution_count": null,
   "id": "d6b01094",
   "metadata": {
    "scrolled": true
   },
   "outputs": [],
   "source": [
    "environment.model = exported_model\n",
    "ov_task = get_impl_class(model_template.entrypoints.openvino)(environment)\n",
    "predicted_validation_dataset = ov_task.infer(\n",
    "    validation_dataset.with_empty_annotations(),\n",
    "    InferenceParameters(is_evaluation=True))\n",
    "resultset = ResultSetEntity(\n",
    "    model=output_model,\n",
    "    ground_truth_dataset=validation_dataset,\n",
    "    prediction_dataset=predicted_validation_dataset,\n",
    ")\n",
    "ov_task.evaluate(resultset)\n",
    "print(resultset.performance)"
   ]
  },
  {
   "cell_type": "markdown",
   "id": "e810af6c",
   "metadata": {},
   "source": [
    "## Draw bounding boxes"
   ]
  },
  {
   "cell_type": "code",
   "execution_count": null,
   "id": "63bae4d5",
   "metadata": {
    "scrolled": false
   },
   "outputs": [],
   "source": [
    "import IPython\n",
    "import PIL\n",
    "\n",
    "for predictions, item in zip(predicted_validation_dataset, validation_dataset.with_empty_annotations()):\n",
    "    image = item.numpy.astype(np.uint8)\n",
    "    for box in predictions.annotation_scene.shapes:\n",
    "        x1 = int(box.x1 * image.shape[1])\n",
    "        x2 = int(box.x2 * image.shape[1])\n",
    "        y1 = int(box.y1 * image.shape[0])\n",
    "        y2 = int(box.y2 * image.shape[0])\n",
    "        cv2.rectangle(image, (x1, y1), (x2, y2), (0, 0, 255), 3)  \n",
    "    IPython.display.display(PIL.Image.fromarray(image))"
   ]
  }
 ],
 "metadata": {
  "kernelspec": {
   "display_name": "Python 3 (ipykernel)",
   "language": "python",
   "name": "python3"
  },
  "language_info": {
   "codemirror_mode": {
    "name": "ipython",
    "version": 3
   },
   "file_extension": ".py",
   "mimetype": "text/x-python",
   "name": "python",
   "nbconvert_exporter": "python",
   "pygments_lexer": "ipython3",
   "version": "3.8.10"
  }
 },
 "nbformat": 4,
 "nbformat_minor": 5
}
